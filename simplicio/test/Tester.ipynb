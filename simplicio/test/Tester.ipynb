{
 "cells": [
  {
   "cell_type": "code",
   "execution_count": null,
   "id": "decent-holmes",
   "metadata": {
    "scrolled": true
   },
   "outputs": [],
   "source": [
    "from liblet import warn\n",
    "from os import system"
   ]
  },
  {
   "cell_type": "code",
   "execution_count": null,
   "id": "unknown-flavor",
   "metadata": {
    "scrolled": true
   },
   "outputs": [],
   "source": [
    "def run(expression, showAST=True):\n",
    "    r = system(r'cd ../out '\n",
    "               r'&& cd ../out && java -cp \"$ANTLR4_JAR\": test.Test \"' + expression + '\" \"' + str(showAST).lower() + '\"')\n",
    "    if r != 0: warn('Error')\n",
    "    exec(open('pycode.txt', 'r').read())"
   ]
  },
  {
   "cell_type": "code",
   "execution_count": null,
   "id": "architectural-strike",
   "metadata": {
    "scrolled": false
   },
   "outputs": [],
   "source": [
    "run('1+2*3')"
   ]
  }
 ],
 "metadata": {
  "hide_input": false,
  "kernelspec": {
   "display_name": "Python 3",
   "language": "python",
   "name": "python3"
  },
  "language_info": {
   "codemirror_mode": {
    "name": "ipython",
    "version": 3
   },
   "file_extension": ".py",
   "mimetype": "text/x-python",
   "name": "python",
   "nbconvert_exporter": "python",
   "pygments_lexer": "ipython3",
   "version": "3.9.6"
  }
 },
 "nbformat": 4,
 "nbformat_minor": 5
}
